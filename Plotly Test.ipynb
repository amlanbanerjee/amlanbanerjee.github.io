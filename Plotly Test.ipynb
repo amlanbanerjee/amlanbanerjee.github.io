{
 "cells": [
  {
   "cell_type": "code",
   "execution_count": null,
   "metadata": {
    "collapsed": true,
    "slideshow": {
     "slide_type": "slide"
    }
   },
   "outputs": [],
   "source": [
    "library(plotly)\n",
    "library(dplyr)\n",
    "\n",
    "df <- read.csv(file=\"http://amlanbanerjee.github.io/lea_charter_1.csv\", sep=\",\")\n",
    "head(df)\n",
    "# df <- df[order(df$SHYEAR), ]\n",
    "\n",
    "df$YEAR <- NA\n",
    "df$YEAR[df$SHYEAR =='2002-03'] <- 2003\n",
    "df$YEAR[df$SHYEAR =='2003-04'] <- 2004\n",
    "df$YEAR[df$SHYEAR =='2004-05'] <- 2005\n",
    "df$YEAR[df$SHYEAR =='2005-06'] <- 2006\n",
    "df$YEAR[df$SHYEAR =='2006-07'] <- 2007\n",
    "df$YEAR[df$SHYEAR =='2007-08'] <- 2008\n",
    "df$YEAR[df$SHYEAR =='2008-09'] <- 2009\n",
    "df$YEAR[df$SHYEAR =='2009-10'] <- 2010\n",
    "df$YEAR[df$SHYEAR =='2010-11'] <- 2011\n",
    "df$YEAR[df$SHYEAR =='2011-12'] <- 2012\n",
    "df$YEAR[df$SHYEAR =='2012-13'] <- 2013\n",
    "df$YEAR[df$SHYEAR =='2013-14'] <- 2014\n",
    "\n",
    "df <- subset(df, df$YEAR>2003)\n",
    "\n"
   ]
  },
  {
   "cell_type": "code",
   "execution_count": 14,
   "metadata": {
    "collapsed": false,
    "scrolled": true,
    "slideshow": {
     "slide_type": "slide"
    }
   },
   "outputs": [
    {
     "data": {
      "text/html": [
       "<iframe src=\"plotlyJupyterHTML/521fc78f5b9d02210cfb8dd0d0a4e638.html\" width=\"100%\" height=\"400\" id=\"igraph\" scrolling=\"no\" seamless=\"seamless\" frameBorder=\"0\"> </iframe>"
      ]
     },
     "metadata": {},
     "output_type": "display_data"
    }
   ],
   "source": [
    "\n",
    "# common map properties\n",
    "g <- list(\n",
    "  scope = 'usa',\n",
    "  showland = T,\n",
    "  landcolor = toRGB(\"gray90\"),\n",
    "  showcountries = F,\n",
    "  subunitcolor = toRGB(\"white\")\n",
    ")\n",
    "\n",
    "one_map <- function(dat) {\n",
    "  plot_geo(dat) %>%\n",
    "    add_markers(x = ~LON, y = ~LAT, color = I(\"blue\"), alpha = 0.5, mode = 'markers', marker = list(size = 3)) %>%\n",
    "    add_text(x = -78, y = 47, text = ~unique(YEAR), color = I(\"black\")) %>%\n",
    "    layout(geo = g)\n",
    "}\n",
    "\n",
    "p <- df %>%\n",
    "  group_by(YEAR) %>%\n",
    "  do(map = one_map(.)) %>%\n",
    "  subplot(nrows = 3) %>%\n",
    "  layout(\n",
    "    showlegend = FALSE,\n",
    "    title = 'New Charter Districts per year 2004-2014, Source: <a href=\"https://nces.ed.gov/ccd/pubagency.asp\">NCES</a>',\n",
    "    width = 700,\n",
    "    height = 425,\n",
    "    hovermode = FALSE\n",
    "  )\n",
    "embed_notebook(p)"
   ]
  }
 ],
 "metadata": {
  "anaconda-cloud": {
   "attach-environment": false,
   "environment": null,
   "summary": "Test",
   "url": "https://anaconda.org/amlanbanerjee/plotly-test"
  },
  "celltoolbar": "Slideshow",
  "kernelspec": {
   "display_name": "R",
   "language": "R",
   "name": "ir"
  },
  "language_info": {
   "codemirror_mode": "r",
   "file_extension": ".r",
   "mimetype": "text/x-r-source",
   "name": "R",
   "pygments_lexer": "r",
   "version": "3.3.1"
  }
 },
 "nbformat": 4,
 "nbformat_minor": 1
}
