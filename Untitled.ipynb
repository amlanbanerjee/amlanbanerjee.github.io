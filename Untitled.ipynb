{
 "cells": [
  {
   "cell_type": "code",
   "execution_count": 9,
   "metadata": {
    "collapsed": false
   },
   "outputs": [
    {
     "data": {
      "text/html": [
       "<table>\n",
       "<thead><tr><th scope=col>State</th><th scope=col>Year</th><th scope=col>Salary</th><th scope=col>Source</th><th scope=col>Note</th></tr></thead>\n",
       "<tbody>\n",
       "\t<tr><td>Alabama</td><td>11     </td><td>49034  </td><td>ACS    </td><td>       </td></tr>\n",
       "\t<tr><td>Alabama</td><td>12     </td><td>49292  </td><td>ACS    </td><td>       </td></tr>\n",
       "\t<tr><td>Alabama</td><td>13     </td><td>49643  </td><td>ACS    </td><td>       </td></tr>\n",
       "\t<tr><td>Alabama</td><td>14     </td><td>49742  </td><td>ACS    </td><td>       </td></tr>\n",
       "\t<tr><td>Alabama</td><td>15     </td><td>50039  </td><td>ACS    </td><td>       </td></tr>\n",
       "\t<tr><td>Alabama</td><td>16     </td><td>50456  </td><td>ACS    </td><td>       </td></tr>\n",
       "</tbody>\n",
       "</table>\n"
      ],
      "text/latex": [
       "\\begin{tabular}{r|lllll}\n",
       " State & Year & Salary & Source & Note\\\\\n",
       "\\hline\n",
       "\t Alabama & 11      & 49034   & ACS     &        \\\\\n",
       "\t Alabama & 12      & 49292   & ACS     &        \\\\\n",
       "\t Alabama & 13      & 49643   & ACS     &        \\\\\n",
       "\t Alabama & 14      & 49742   & ACS     &        \\\\\n",
       "\t Alabama & 15      & 50039   & ACS     &        \\\\\n",
       "\t Alabama & 16      & 50456   & ACS     &        \\\\\n",
       "\\end{tabular}\n"
      ],
      "text/plain": [
       "  State   Year Salary Source Note\n",
       "1 Alabama 11   49034  ACS        \n",
       "2 Alabama 12   49292  ACS        \n",
       "3 Alabama 13   49643  ACS        \n",
       "4 Alabama 14   49742  ACS        \n",
       "5 Alabama 15   50039  ACS        \n",
       "6 Alabama 16   50456  ACS        "
      ]
     },
     "metadata": {},
     "output_type": "display_data"
    },
    {
     "data": {
      "text/html": [
       "<table>\n",
       "<thead><tr><th></th><th scope=col>State</th><th scope=col>Year</th><th scope=col>ACS</th><th scope=col>NEA</th><th scope=col>DIFF</th><th scope=col>Note</th></tr></thead>\n",
       "<tbody>\n",
       "\t<tr><th scope=row>301</th><td>Wyoming </td><td>2011    </td><td>$56,242 </td><td>$56,100 </td><td>$142    </td><td>        </td></tr>\n",
       "\t<tr><th scope=row>302</th><td>Wyoming </td><td>2012    </td><td>$57,454 </td><td>$56,774 </td><td>$680    </td><td>        </td></tr>\n",
       "\t<tr><th scope=row>303</th><td>Wyoming </td><td>2013    </td><td>$58,297 </td><td>$56,775 </td><td>$1,522  </td><td>        </td></tr>\n",
       "\t<tr><th scope=row>304</th><td>Wyoming </td><td>2014    </td><td>$58,876 </td><td>$56,583 </td><td>$2,293  </td><td>        </td></tr>\n",
       "\t<tr><th scope=row>305</th><td>Wyoming </td><td>2015    </td><td>$59,390 </td><td>$57,414 </td><td>$1,976  </td><td>est     </td></tr>\n",
       "\t<tr><th scope=row>306</th><td>Wyoming </td><td>2016    </td><td>$60,316 </td><td>$57,761 </td><td>$2,555  </td><td>est     </td></tr>\n",
       "</tbody>\n",
       "</table>\n"
      ],
      "text/latex": [
       "\\begin{tabular}{r|llllll}\n",
       "  & State & Year & ACS & NEA & DIFF & Note\\\\\n",
       "\\hline\n",
       "\t301 & Wyoming    & 2011       & \\$56,242  & \\$56,100  & \\$142     &           \\\\\n",
       "\t302 & Wyoming    & 2012       & \\$57,454  & \\$56,774  & \\$680     &           \\\\\n",
       "\t303 & Wyoming    & 2013       & \\$58,297  & \\$56,775  & \\$1,522   &           \\\\\n",
       "\t304 & Wyoming    & 2014       & \\$58,876  & \\$56,583  & \\$2,293   &           \\\\\n",
       "\t305 & Wyoming    & 2015       & \\$59,390  & \\$57,414  & \\$1,976   & est       \\\\\n",
       "\t306 & Wyoming    & 2016       & \\$60,316  & \\$57,761  & \\$2,555   & est       \\\\\n",
       "\\end{tabular}\n"
      ],
      "text/plain": [
       "    State   Year ACS      NEA      DIFF    Note\n",
       "301 Wyoming 2011 $56,242  $56,100  $142        \n",
       "302 Wyoming 2012 $57,454  $56,774  $680        \n",
       "303 Wyoming 2013 $58,297  $56,775  $1,522      \n",
       "304 Wyoming 2014 $58,876  $56,583  $2,293      \n",
       "305 Wyoming 2015 $59,390  $57,414  $1,976  est \n",
       "306 Wyoming 2016 $60,316  $57,761  $2,555  est "
      ]
     },
     "metadata": {},
     "output_type": "display_data"
    }
   ],
   "source": [
    "require(ggplot2)\n",
    "require(plotly)\n",
    "salary <- read.csv(\"C:/Users/Amlan/Documents/Amlan's Website/salary_estimates.csv\", header=T)\n",
    "salary.dt <- read.csv(\"C:/Users/Amlan/Documents/Amlan's Website/salary_estimates_dt.csv\", header=T)\n",
    "head(salary)\n",
    "tail(salary.dt)"
   ]
  }
 ],
 "metadata": {
  "anaconda-cloud": {},
  "kernelspec": {
   "display_name": "R",
   "language": "R",
   "name": "ir"
  },
  "language_info": {
   "codemirror_mode": "r",
   "file_extension": ".r",
   "mimetype": "text/x-r-source",
   "name": "R",
   "pygments_lexer": "r",
   "version": "3.3.1"
  }
 },
 "nbformat": 4,
 "nbformat_minor": 1
}
